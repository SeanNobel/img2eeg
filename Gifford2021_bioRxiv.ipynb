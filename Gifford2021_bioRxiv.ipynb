{
  "nbformat": 4,
  "nbformat_minor": 0,
  "metadata": {
    "colab": {
      "name": "Gifford2021_bioRxiv.ipynb",
      "provenance": [],
      "toc_visible": true
    },
    "kernelspec": {
      "name": "python3",
      "display_name": "Python 3"
    },
    "language_info": {
      "name": "python"
    },
    "accelerator": "GPU"
  },
  "cells": [
    {
      "cell_type": "markdown",
      "source": [
        "## 準備\n",
        "\n",
        "1. [筆者らGitHub](https://github.com/gifale95/eeg_encoding)をまるごとダウンロードして自分のGoogle Driveの任意の場所に置く．\n",
        "\n",
        "<p align='center'><img src='https://github.com/SeanNobel/img2eeg/blob/main/figs/pr1.png?raw=True' width='60%'></p>\n",
        "\n",
        "2. `eeg_encoding-main`下に`project_dir/image_set`を作成し，そこに[データセットページ](https://osf.io/y63gw/)の`test_images.zip`と`training_images.zip`をダウンロードして解凍したものを配置する．(ドライブの容量に余裕があればILSVRC-2012データセットも配置してみても良いと思います)\n",
        "\n",
        "<p align='center'><img src='https://github.com/SeanNobel/img2eeg/blob/main/figs/pr2.png?raw=True' width='60%'></p>\n",
        "\n",
        "3. `project_dir`下に`eeg_dataset/preprocessed_data`フォルダを作成し，[preprocessed data](https://osf.io/anp5v/)の`sub-01.zip`を解凍したものを配置する．\n",
        "\n",
        "<p align='center'><img src='https://github.com/SeanNobel/img2eeg/blob/main/figs/pr3.png?raw=True' width='60%'></p>"
      ],
      "metadata": {
        "id": "l7u9azTg5Bbu"
      }
    },
    {
      "cell_type": "code",
      "execution_count": 20,
      "metadata": {
        "id": "DVXnokqpS0ze",
        "colab": {
          "base_uri": "https://localhost:8080/"
        },
        "outputId": "1d4888fc-3547-40f1-deaf-8c1e3b5b5a2c"
      },
      "outputs": [
        {
          "output_type": "stream",
          "name": "stdout",
          "text": [
            "Mounted at /content/drive\n",
            "/content/drive/MyDrive/eeg_encoding-main\n"
          ]
        }
      ],
      "source": [
        "# eeg_encoding_mainを配置した自分のGoogle Drive内のパスをここに指定\n",
        "work_dir = '/content/drive/MyDrive/eeg_encoding-main/'\n",
        "\n",
        "import os\n",
        "# Google DriveをColabにマウント\n",
        "from google.colab import drive\n",
        "# drive.flush_and_unmount()\n",
        "drive.mount(\"/content/drive\", force_remount=True)\n",
        "\n",
        "os.chdir(work_dir)\n",
        "print(os.getcwd())\n",
        "\n",
        "# !pip install -r requirements.txt\n",
        "\n",
        "# 要素にドットでアクセスできる辞書クラス\n",
        "class Args(dict):\n",
        "    def __init__(self, *args, **kwargs):\n",
        "        super().__init__(*args, **kwargs)\n",
        "        self.__dict__ = self"
      ]
    },
    {
      "cell_type": "code",
      "source": [
        "# import argparse\n",
        "from torchvision import models\n",
        "import torch.nn as nn\n",
        "import numpy as np\n",
        "import torch\n",
        "from torch.autograd import Variable as V\n",
        "from torchvision import transforms as trn\n",
        "import os\n",
        "from PIL import Image\n",
        "import seaborn\n",
        "import tqdm\n",
        "\n",
        "from sklearn.preprocessing import StandardScaler\n",
        "from sklearn.decomposition import KernelPCA\n",
        "\n",
        "from sklearn.utils import resample\n",
        "from scipy.stats import pearsonr as corr"
      ],
      "metadata": {
        "id": "-RYubla5JXWf"
      },
      "execution_count": 21,
      "outputs": []
    },
    {
      "cell_type": "markdown",
      "source": [
        "## AlexNetを使って画像からfeature mapsを抽出する\n",
        "\n",
        "[THINGS DATABASE](https://things-initiative.org/):\n",
        "\n",
        "1854個のコンセプト(carやairplaneなど)それぞれについて10枚の画像が用意されたデータセット．  \n",
        "論文では200をテストに，1654を訓練に使っている．テストは各コンセプト1枚しか使わないので200枚，訓練は10枚使うので16540枚の画像となる．（今回は10枚だと多すぎるので2枚だけ使います）\n",
        "\n",
        "<p align='center'><img src='https://github.com/SeanNobel/img2eeg/blob/main/figs/fig2.png?raw=True' width='60%'></p>\n",
        "\n",
        "論文ではResNet50や他の画像処理ネットワークも使っていますが，とりあえず簡単のためAlexNetのみ使っていこうと思います．\n",
        "\n",
        "下のセルを実行すると，`project_dir/dnn_feature_maps/full_feature_maps/alexnet/`下の`training_images`に1654*`max_images`個の，`test_images`に200個のファイルが出力されているのがわかります．"
      ],
      "metadata": {
        "id": "uNPrwGDtyjC7"
      }
    },
    {
      "cell_type": "code",
      "source": [
        "# =============================================================================\n",
        "# Selecting the layers of interest and importing the model\n",
        "# =============================================================================\n",
        "# Lists of AlexNet convolutional and fully connected layers\n",
        "conv_layers = ['conv1', 'ReLU1', 'maxpool1', 'conv2', 'ReLU2', 'maxpool2',\n",
        "\t'conv3', 'ReLU3', 'conv4', 'ReLU4', 'conv5', 'ReLU5', 'maxpool5']\n",
        "fully_connected_layers = ['Dropout6', 'fc6', 'ReLU6', 'Dropout7', 'fc7',\n",
        "\t'ReLU7', 'fc8']\n",
        "\n",
        "class AlexNet(nn.Module):\n",
        "\tdef __init__(self):\n",
        "\t\t\"\"\"Selecting the desired layers and importing pretrained weights.\"\"\"\n",
        "\t\tsuper(AlexNet, self).__init__()\n",
        "\t\tself.select_cov = ['maxpool1', 'maxpool2', 'ReLU3', 'ReLU4', 'maxpool5']\n",
        "\t\tself.select_fully_connected = ['ReLU6' , 'ReLU7', 'fc8']\n",
        "\t\tself.feat_list = self.select_cov + self.select_fully_connected\n",
        "\t\tself.alex_feats = models.alexnet(pretrained=True).features\n",
        "\t\tself.alex_classifier = models.alexnet(pretrained=True).classifier\n",
        "\t\tself.avgpool = nn.AdaptiveAvgPool2d((6, 6))\n",
        "\n",
        "\tdef forward(self, x):\n",
        "\t\t\"\"\"Extracting the feature maps.\"\"\"\n",
        "\t\tfeatures = []\n",
        "\t\tfor name, layer in self.alex_feats._modules.items():\n",
        "\t\t\tx = layer(x)\n",
        "\t\t\tif conv_layers[int(name)] in self.feat_list:\n",
        "\t\t\t\tfeatures.append(x)\n",
        "\t\tx = self.avgpool(x)\n",
        "\t\tx = x.view(x.size(0), -1)\n",
        "\t\tfor name, layer in self.alex_classifier._modules.items():\n",
        "\t\t\tx = layer(x)\n",
        "\t\t\tif fully_connected_layers[int(name)] in self.feat_list:\n",
        "\t\t\t\tfeatures.append(x)\n",
        "\t\treturn features\n",
        "\n",
        "model = AlexNet()\n",
        "if torch.cuda.is_available():\n",
        "\tmodel.cuda()\n",
        "model.eval()"
      ],
      "metadata": {
        "id": "40I87bkiTffJ"
      },
      "execution_count": null,
      "outputs": []
    },
    {
      "cell_type": "code",
      "source": [
        "\"\"\"Extracting and saving the AlexNet feature maps of the training and test images.\n",
        "\"\"\"\n",
        "# =============================================================================\n",
        "# Input arguments\n",
        "# =============================================================================\n",
        "args = Args({\n",
        "    'project_dir': work_dir + 'project_dir'\n",
        "})\n",
        "\n",
        "print('Extracting feature maps AlexNet <<<')\n",
        "print('\\nInput arguments:')\n",
        "\n",
        "\n",
        "# =============================================================================\n",
        "# Defining the image preprocessing\n",
        "# =============================================================================\n",
        "centre_crop = trn.Compose([\n",
        "\ttrn.Resize((224,224)),\n",
        "\ttrn.ToTensor(),\n",
        "\ttrn.Normalize([0.485, 0.456, 0.406], [0.229, 0.224, 0.225])\n",
        "])\n",
        "\n",
        "\n",
        "# =============================================================================\n",
        "# Loading the images and extracting the corresponding feature maps\n",
        "# =============================================================================\n",
        "# Extracting the feature maps of (1) training images, (2) test images,\n",
        "# (3) ILSVRC-2012 validation images, (4) ILSVRC-2012 test images.\n",
        "# Image directories\n",
        "max_images = 3 # per concept\n",
        "\n",
        "img_set_dir = os.path.join(args.project_dir, 'image_set')\n",
        "img_partitions = os.listdir(img_set_dir)\n",
        "for p in img_partitions:\n",
        "\tpart_dir = os.path.join(img_set_dir, p)\n",
        "\timage_list = []\n",
        "\n",
        "\n",
        "\tfor root, dirs, files in os.walk(part_dir):\n",
        "\t\timages_idx = 0\n",
        "\t\tfor file in files:\n",
        "\t\t\t# 訓練データが多すぎて実行に時間がかかるので1654の各conceptについて\n",
        "\t\t\t# 最初の画像3枚のみ使う．テストは元々1枚しかないのでOK\n",
        "\t\t\timages_idx += 1\n",
        "\t\t\tif images_idx > max_images:\n",
        "\t\t\t\tbreak\n",
        "\n",
        "\t\t\t# 処理\n",
        "\t\t\tif file.endswith(\".jpg\") or file.endswith(\".JPEG\"):\n",
        "\t\t\t\timage_list.append(os.path.join(root,file))\n",
        "\t\n",
        "\timage_list.sort()\n",
        "\n",
        "\t# Extracting and saving the feature maps\n",
        "\tidx = 1\n",
        "\tfor image in image_list:\n",
        "\t\timg = Image.open(image).convert('RGB')\n",
        "\t\tfilename=image.split(\"/\")[-1].split(\".\")[0]\n",
        "\t\tinput_img = V(centre_crop(img).unsqueeze(0))\n",
        "\t\tif torch.cuda.is_available():\n",
        "\t\t\tinput_img=input_img.cuda()\n",
        "\t\tx = model.forward(input_img)\n",
        "\t\tfeats = {}\n",
        "\t\tfor i,feat in enumerate(x):\n",
        "\t\t\tfeats[model.feat_list[i]] = feat.data.cpu().numpy()\n",
        "\n",
        "\t\t# Creating the directory if not existing and saving\n",
        "\t\tsave_dir = os.path.join(args.project_dir, 'dnn_feature_maps',\n",
        "\t\t\t'full_feature_maps', 'alexnet', p)\n",
        "\t\tfile_name = p + '_' + format(idx, '07')\n",
        "\t\tif os.path.isdir(save_dir) == False:\n",
        "\t\t\tos.makedirs(save_dir)\n",
        "\t\tnp.save(os.path.join(save_dir, file_name), feats)\n",
        "\t\tidx += 1"
      ],
      "metadata": {
        "colab": {
          "base_uri": "https://localhost:8080/"
        },
        "id": "tFluwEmHC-Tu",
        "outputId": "f7c9555c-9018-4fa0-c96c-b3b2c172e3d2"
      },
      "execution_count": 6,
      "outputs": [
        {
          "output_type": "stream",
          "name": "stdout",
          "text": [
            "Extracting feature maps AlexNet <<<\n",
            "\n",
            "Input arguments:\n"
          ]
        }
      ]
    },
    {
      "cell_type": "markdown",
      "source": [
        "### AlexNetから出てきたデータの形の確認\n",
        "\n",
        "AlexNetの各層のパラメータの重みが出力されたことがわかります．\n",
        "\n",
        "論文によると，さっき得られたAlexNetの各層の隠れ状態を結合してPCAで次元削減することによって，EEGに変換するためのfeature mapsが得られます．"
      ],
      "metadata": {
        "id": "ZN4MnEzzWc5N"
      }
    },
    {
      "cell_type": "code",
      "source": [
        "weights_path = work_dir + 'project_dir/dnn_feature_maps/full_feature_maps/alexnet/test_images/test_images_0000001.npy'\n",
        "\n",
        "model_weights = np.load(weights_path, allow_pickle=True).item() # Object型が返ってくるので.item()をとる\n",
        "\n",
        "print(model_weights.keys())"
      ],
      "metadata": {
        "colab": {
          "base_uri": "https://localhost:8080/"
        },
        "id": "2u1CvN7eIsrR",
        "outputId": "48e2ad3a-3339-4623-9899-d1c7ca363b4f"
      },
      "execution_count": 3,
      "outputs": [
        {
          "output_type": "stream",
          "name": "stdout",
          "text": [
            "dict_keys(['maxpool1', 'maxpool2', 'ReLU3', 'ReLU4', 'maxpool5', 'ReLU6', 'ReLU7', 'fc8'])\n"
          ]
        }
      ]
    },
    {
      "cell_type": "code",
      "source": [
        "for key in model_weights.keys():\n",
        "    print(model_weights[key].shape)"
      ],
      "metadata": {
        "colab": {
          "base_uri": "https://localhost:8080/"
        },
        "id": "njEm5elNJqlq",
        "outputId": "9748db3f-5827-48b9-d7b3-61ad479e891f"
      },
      "execution_count": 4,
      "outputs": [
        {
          "output_type": "stream",
          "name": "stdout",
          "text": [
            "(1, 64, 27, 27)\n",
            "(1, 192, 13, 13)\n",
            "(1, 384, 13, 13)\n",
            "(1, 256, 13, 13)\n",
            "(1, 256, 6, 6)\n",
            "(1, 4096)\n",
            "(1, 4096)\n",
            "(1, 1000)\n"
          ]
        }
      ]
    },
    {
      "cell_type": "markdown",
      "source": [
        "### 出てきたデータにPCAしてfeature mapsを得る\n",
        "\n",
        "[KernelPCA](https://scikit-learn.org/stable/modules/generated/sklearn.decomposition.KernelPCA.html)という非線形の次元削減を使う．訓練データでの重みでフィットしたPCAをテストデータにも使う．"
      ],
      "metadata": {
        "id": "Bzu71EHk6WWa"
      }
    },
    {
      "cell_type": "code",
      "source": [
        "\"\"\"Appending the feature maps of all DNN layers, standardizing and applying PCA.\n",
        "Parameters\n",
        "----------\n",
        "dnn : str\n",
        "\tUsed DNN architecture.\n",
        "n_components : int\n",
        "\tNumber of PCA components retained.\n",
        "project_dir : str\n",
        "\tDirectory of the project folder.\n",
        "\"\"\"\n",
        "\n",
        "# =============================================================================\n",
        "# Input arguments\n",
        "# =============================================================================\n",
        "args = Args({\n",
        "    'project_dir': work_dir + 'project_dir',\n",
        "    'dnn': 'alexnet',\n",
        "    'n_components': 1000,\n",
        "})\n",
        "\n",
        "print('>>> Applying PCA on the feature maps <<<')\n",
        "print('\\nInput arguments:')\n",
        "for key, val in vars(args).items():\n",
        "\tprint('{:16} {}'.format(key, val))"
      ],
      "metadata": {
        "colab": {
          "base_uri": "https://localhost:8080/"
        },
        "id": "OUMCfNQ_4f7w",
        "outputId": "490ae492-f836-4e3a-d576-ffeb55363565"
      },
      "execution_count": 5,
      "outputs": [
        {
          "output_type": "stream",
          "name": "stdout",
          "text": [
            ">>> Applying PCA on the feature maps <<<\n",
            "\n",
            "Input arguments:\n",
            "project_dir      /content/drive/MyDrive/eeg_encoding-main/project_dir\n",
            "dnn              alexnet\n",
            "n_components     1000\n"
          ]
        }
      ]
    },
    {
      "cell_type": "markdown",
      "source": [
        "訓練画像によるAlexNet重みにKernel PCAをする．"
      ],
      "metadata": {
        "id": "0fuuTpkCT_zb"
      }
    },
    {
      "cell_type": "code",
      "source": [
        " # =============================================================================\n",
        "# Applying PCA on the training images feature maps\n",
        "# =============================================================================\n",
        "# The standardization and PCA statistics computed on the training images feature\n",
        "# maps are also applied to the test images feature maps and to the ILSVRC-2012\n",
        "# images feature maps.\n",
        "# Loading the feature maps\n",
        "fmaps_train = []\n",
        "fmaps_dir = os.path.join(args.project_dir, 'dnn_feature_maps',\n",
        "\t'full_feature_maps', args.dnn, 'training_images')\n",
        "fmaps_list = os.listdir(fmaps_dir)\n",
        "fmaps_list.sort()\n",
        "for f in fmaps_list:\n",
        "\tfmaps_data = np.load(os.path.join(fmaps_dir, f), allow_pickle=True).item()\n",
        "\tfor l, dnn_layer in enumerate(fmaps_data.keys()):\n",
        "\t\tif l == 0:\n",
        "\t\t\tfeats = np.reshape(fmaps_data[dnn_layer], -1)\n",
        "\t\telse:\n",
        "\t\t\tfeats = np.append(feats, np.reshape(fmaps_data[dnn_layer], -1))\n",
        "\tfmaps_train.append(feats)\n",
        "fmaps_train = np.asarray(fmaps_train)\n",
        "\n",
        "# Standardizing the data\n",
        "scaler = StandardScaler()\n",
        "scaler.fit(fmaps_train)\n",
        "fmaps_train = scaler.transform(fmaps_train)\n",
        "\n",
        "# Applying PCA\n",
        "pca = KernelPCA(n_components=args.n_components, kernel='poly', degree=4,\n",
        "\trandom_state=20200220)\n",
        "pca.fit(fmaps_train)\n",
        "fmaps_train = pca.transform(fmaps_train)\n",
        "\n",
        "# Creating the directory if not existing and saving\n",
        "save_dir = os.path.join(args.project_dir, 'dnn_feature_maps',\n",
        "\t'pca_feature_maps', args.dnn)\n",
        "file_name = 'pca_feature_maps_training'\n",
        "if os.path.isdir(save_dir) == False:\n",
        "\tos.makedirs(save_dir)\n",
        "np.save(os.path.join(save_dir, file_name), fmaps_train)\n",
        "del fmaps_train"
      ],
      "metadata": {
        "id": "CSZ_WNVhTxp7"
      },
      "execution_count": null,
      "outputs": []
    },
    {
      "cell_type": "markdown",
      "source": [
        "テスト画像によるAlexNet重みにKernel PCAをする．"
      ],
      "metadata": {
        "id": "NKUNl_w8T4Xe"
      }
    },
    {
      "cell_type": "code",
      "source": [
        "# Loading the feature maps\n",
        "fmaps_test = []\n",
        "fmaps_dir = os.path.join(args.project_dir, 'dnn_feature_maps',\n",
        "\t'full_feature_maps', args.dnn, 'test_images')\n",
        "fmaps_list = os.listdir(fmaps_dir)\n",
        "fmaps_list.sort()\n",
        "for f in fmaps_list:\n",
        "\tfmaps_data = np.load(os.path.join(fmaps_dir, f), allow_pickle=True).item()\n",
        "\tfor l, dnn_layer in enumerate(fmaps_data.keys()):\n",
        "\t\tif l == 0:\n",
        "\t\t\tfeats = np.reshape(fmaps_data[dnn_layer], -1)\n",
        "\t\telse:\n",
        "\t\t\tfeats = np.append(feats, np.reshape(fmaps_data[dnn_layer], -1))\n",
        "\tfmaps_test.append(feats)\n",
        "fmaps_test = np.asarray(fmaps_test)\n",
        "\n",
        "# Standardizing the data\n",
        "fmaps_test = scaler.transform(fmaps_test)\n",
        "\n",
        "# Applying PCA\n",
        "fmaps_test = pca.transform(fmaps_test)\n",
        "\n",
        "# Saving\n",
        "file_name = 'pca_feature_maps_test'\n",
        "np.save(os.path.join(save_dir, file_name), fmaps_test)\n",
        "del fmaps_test"
      ],
      "metadata": {
        "id": "Aw5H3A0vT0ha"
      },
      "execution_count": null,
      "outputs": []
    },
    {
      "cell_type": "markdown",
      "source": [
        "### feature mapsの確認"
      ],
      "metadata": {
        "id": "LAXfFbY--Cvd"
      }
    },
    {
      "cell_type": "code",
      "source": [
        "train_feature_path = work_dir + 'project_dir/dnn_feature_maps/pca_feature_maps/alexnet/pca_feature_maps_training.npy'\n",
        "test_feature_path = work_dir + 'project_dir/dnn_feature_maps/pca_feature_maps/alexnet/pca_feature_maps_test.npy'\n",
        "\n",
        "train_feature_map = np.load(train_feature_path)\n",
        "test_feature_map = np.load(test_feature_path)\n",
        "\n",
        "print(train_feature_map.shape)\n",
        "print(test_feature_map.shape)\n",
        "\n",
        "# テスト画像による重みのKernel PCAの結果\n",
        "seaborn.heatmap(test_feature_map, cmap='bwr')"
      ],
      "metadata": {
        "colab": {
          "base_uri": "https://localhost:8080/",
          "height": 331
        },
        "id": "7wKCZkS696zT",
        "outputId": "56761487-1181-4728-d4ef-621f96b46cae"
      },
      "execution_count": 11,
      "outputs": [
        {
          "output_type": "stream",
          "name": "stdout",
          "text": [
            "(4962, 1000)\n",
            "(200, 1000)\n"
          ]
        },
        {
          "output_type": "execute_result",
          "data": {
            "text/plain": [
              "<matplotlib.axes._subplots.AxesSubplot at 0x7fce71967d50>"
            ]
          },
          "metadata": {},
          "execution_count": 11
        },
        {
          "output_type": "display_data",
          "data": {
            "text/plain": [
              "<Figure size 432x288 with 2 Axes>"
            ],
            "image/png": "[encoded data removed]"
          },
          "metadata": {
            "needs_background": "light"
          }
        }
      ]
    },
    {
      "cell_type": "markdown",
      "source": [
        "## Feature mapsとEEGデータの間のlinear regressionを行う"
      ],
      "metadata": {
        "id": "pnhdYp4GVCLZ"
      }
    },
    {
      "cell_type": "code",
      "source": [
        "def vectorized_correlation(x,y):\n",
        "    dim = 0\n",
        "\n",
        "    centered_x = x - x.mean(axis=dim, keepdims=True)\n",
        "    centered_y = y - y.mean(axis=dim, keepdims=True)\n",
        "\n",
        "    covariance = (centered_x * centered_y).sum(axis=dim, keepdims=True)\n",
        "\n",
        "    bessel_corrected_covariance = covariance / (x.shape[dim] - 1)\n",
        "\n",
        "    x_std = x.std(axis=dim, keepdims=True)+1e-8\n",
        "    y_std = y.std(axis=dim, keepdims=True)+1e-8\n",
        "\n",
        "    corr = bessel_corrected_covariance / (x_std * y_std)\n",
        "\n",
        "    return corr.ravel()\n",
        "\n",
        "class OLS_pytorch(object):\n",
        "    def __init__(self,use_gpu=False):\n",
        "        self.coefficients = []\n",
        "        self.use_gpu = use_gpu\n",
        "        self.X = None\n",
        "        self.y = None\n",
        "\n",
        "    def fit(self,X,y):\n",
        "        if len(X.shape) == 1:\n",
        "            X = self._reshape_x(X)\n",
        "        if len(y.shape) == 1:\n",
        "            y = self._reshape_x(y)\n",
        "\n",
        "        X =  self._concatenate_ones(X)\n",
        "\n",
        "        X = torch.from_numpy(X).float()\n",
        "        y = torch.from_numpy(y).float()\n",
        "        if self.use_gpu:\n",
        "            X = X.cuda()\n",
        "            y = y.cuda()\n",
        "        XtX = torch.matmul(X.t(),X)\n",
        "        Xty = torch.matmul(X.t(),y.unsqueeze(2))\n",
        "        XtX = XtX.unsqueeze(0)\n",
        "        XtX = torch.repeat_interleave(XtX, y.shape[0], dim=0)\n",
        "        betas_cholesky, _ = torch.solve(Xty, XtX)\n",
        "\n",
        "        self.coefficients = betas_cholesky\n",
        "\n",
        "    def predict(self, entry):\n",
        "        if len(entry.shape) == 1:\n",
        "            entry = self._reshape_x(entry)\n",
        "        entry =  self._concatenate_ones(entry)\n",
        "        entry = torch.from_numpy(entry).float()\n",
        "        if self.use_gpu:\n",
        "            entry = entry.cuda()\n",
        "        prediction = torch.matmul(entry,self.coefficients)\n",
        "        prediction = prediction.cpu().numpy()\n",
        "        prediction = np.squeeze(prediction).T\n",
        "        return prediction\n",
        "\n",
        "    def score(self):\n",
        "        prediction = torch.matmul(self.X,self.coefficients)\n",
        "        prediction = prediction\n",
        "        yhat = prediction\n",
        "        ybar = (torch.sum(self.y,dim=1, keepdim=True)/self.y.shape[1]).unsqueeze(2)\n",
        "        ssreg = torch.sum((yhat-ybar)**2,dim=1, keepdim=True)\n",
        "        sstot = torch.sum((self.y.unsqueeze(2) - ybar)**2,dim=1, keepdim=True)\n",
        "        score = ssreg / sstot\n",
        "        return score.cpu().numpy().ravel()\n",
        "\n",
        "    def _reshape_x(self,X):\n",
        "        return X.reshape(-1,1)\n",
        "\n",
        "    def _concatenate_ones(self,X):\n",
        "        ones = np.ones(shape=X.shape[0]).reshape(-1,1)\n",
        "        return np.concatenate((ones,X),1)"
      ],
      "metadata": {
        "id": "tiN72Zz8eudH"
      },
      "execution_count": 29,
      "outputs": []
    },
    {
      "cell_type": "code",
      "source": [
        "def load_dnn_data(args):\n",
        "\t\"\"\"Loading the DNN feature maps of the training and test images, and of the\n",
        "\tILSVRC-2012 test and validation images.\n",
        "\tParameters\n",
        "\t----------\n",
        "\targs : Namespace\n",
        "\t\tInput arguments.\n",
        "\tReturns\n",
        "\t-------\n",
        "\tX_train : float\n",
        "\t\tTraining images feature maps.\n",
        "\tX_test : float\n",
        "\t\tTest images feature maps.\n",
        "\tX_ilsvrc2012_val : float\n",
        "\t\tILSVRC-2012 validation images feature maps.\n",
        "\tX_ilsvrc2012_test : float\n",
        "\t\tILSVRC-2012 test images feature maps.\n",
        "\t\"\"\"\n",
        "\n",
        "\t### Loading the DNN feature maps ###\n",
        "\t# Feature maps directories\n",
        "\tdata_dir = os.path.join('dnn_feature_maps', 'pca_feature_maps', args.dnn)\n",
        "\ttraining_file = 'pca_feature_maps_training.npy'\n",
        "\ttest_file = 'pca_feature_maps_test.npy'\n",
        "\t# ilsvrc2012_val_file = 'pca_feature_maps_ilsvrc2012_val.npy'\n",
        "\t# ilsvrc2012_test_file = 'pca_feature_maps_ilsvrc2012_test.npy'\n",
        "\t# Loading the feature maps\n",
        "\tX_train = np.load(os.path.join(args.project_dir, data_dir, training_file))\n",
        "\tX_test = np.load(os.path.join(args.project_dir, data_dir, test_file))\n",
        "\t# X_ilsvrc2012_val = np.load(os.path.join(args.project_dir, data_dir,\n",
        "\t# \tilsvrc2012_val_file))\n",
        "\t# X_ilsvrc2012_test = np.load(os.path.join(args.project_dir, data_dir,\n",
        "\t# \tilsvrc2012_test_file))\n",
        "\n",
        "\t### Output ###\n",
        "\treturn X_train, X_test # , X_ilsvrc2012_val, X_ilsvrc2012_test\n",
        "\n",
        "\n",
        "def load_eeg_data(args):\n",
        "\t\"\"\"Loading the EEG within subjects (the training data of the subject of\n",
        "\tinterest) and between subjects (the training data of the all other subjects\n",
        "\texcept the subject of interest) data.\n",
        "\tParameters\n",
        "\t----------\n",
        "\targs : Namespace\n",
        "\t\tInput arguments.\n",
        "\tReturns\n",
        "\t-------\n",
        "\ty_train_within : float\n",
        "\t\tWithin subjects training EEG data.\n",
        "\ty_train_between : float\n",
        "\t\tBetween subjects training EEG data.\n",
        "\tch_names : list of str\n",
        "\t\tEEG channel names.\n",
        "\ttimes : float\n",
        "\t\tEEG time points.\n",
        "\t\"\"\"\n",
        "\n",
        "\t### Loading the EEG data ###\n",
        "\ty_train_within = []\n",
        "\ty_train_between = []\n",
        "\tfor s in range(args.n_tot_sub):\n",
        "\t\tdata_dir = os.path.join('eeg_dataset', 'preprocessed_data', 'sub-'+\n",
        "\t\t\tformat(s+1,'02'), 'preprocessed_eeg_training.npy')\n",
        "\t\tdata = np.load(os.path.join(args.project_dir, data_dir),\n",
        "\t\t\tallow_pickle=True).item()\n",
        "\t\t# Extracting the data while averaging across repetitions\n",
        "\t\tif s+1 == args.sub:\n",
        "\t\t\ty_train_within.append(np.mean(data['preprocessed_eeg_data'], 1))\n",
        "\t\telse:\n",
        "\t\t\ty_train_between.append(np.mean(data['preprocessed_eeg_data'], 1))\n",
        "\t\tch_names = data['ch_names']\n",
        "\t\ttimes = data['times']\n",
        "\t\tdel data\n",
        "\t# Averaging the between subjects data across subjects\n",
        "\ty_train_within = np.asarray(y_train_within[0])\n",
        "\ty_train_between = np.mean(np.asarray(y_train_between), 0)\n",
        "\n",
        "\t### Output ###\n",
        "\treturn y_train_within, y_train_between, ch_names, times\n",
        "\n",
        "\n",
        "def perform_regression(args, ch_names, times, X_train, X_test, y_train_within, y_train_between):\n",
        "\t\"\"\"Training a linear regression on the training images DNN feature maps (X)\n",
        "\tand training EEG data (Y), and use the trained weights to synthesize the EEG\n",
        "\tresponses to the training and test images (within and between subjects), and\n",
        "\tto the test/validation ILSVRC-2012 images (within subjects).\n",
        "\tParameters\n",
        "\t----------\n",
        "\targs : Namespace\n",
        "\t\tInput arguments.\n",
        "\tch_names : list of str\n",
        "\t\tEEG channel names.\n",
        "\ttimes : float\n",
        "\t\tEEG time points.\n",
        "\tX_train : float\n",
        "\t\tTraining images feature maps.\n",
        "\tX_test : float\n",
        "\t\tTest images feature maps.\n",
        "\tX_ilsvrc2012_val : float\n",
        "\t\tILSVRC-2012 validation images feature maps.\n",
        "\tX_ilsvrc2012_test : float\n",
        "\t\tILSVRC-2012 test images feature maps.\n",
        "\ty_train_within : float\n",
        "\t\tWithin subjects training EEG data.\n",
        "\ty_train_between : float\n",
        "\t\tBetween subjects training EEG data.\n",
        "\t\"\"\"\n",
        "\n",
        "\t### Fitting the regression at each time-point and channel ###\n",
        "\teeg_shape = y_train_within.shape\n",
        "\ty_train_within = np.reshape(y_train_within, (y_train_within.shape[0],-1))\n",
        "\ty_train_between = np.reshape(y_train_between, (y_train_between.shape[0],-1))\n",
        "\t# Within subjects\n",
        "\treg_within = OLS_pytorch(use_gpu=False)\n",
        "\treg_within.fit(X_train, y_train_within.T)\n",
        "\tsynt_train_within = np.reshape(reg_within.predict(X_train),\n",
        "\t\t(X_train.shape[0],eeg_shape[1], eeg_shape[2]))\n",
        "\tsynt_test_within = np.reshape(reg_within.predict(X_test), (X_test.shape[0],\n",
        "\t\teeg_shape[1],eeg_shape[2]))\n",
        "\t# synt_ilsvrc2012_val_within = np.reshape(reg_within.predict(\n",
        "\t# \tX_ilsvrc2012_val), (X_ilsvrc2012_val.shape[0],eeg_shape[1],\n",
        "\t# \teeg_shape[2]))\n",
        "\t# synt_ilsvrc2012_test_within = np.reshape(reg_within.predict(\n",
        "\t# \tX_ilsvrc2012_test), (X_ilsvrc2012_test.shape[0],eeg_shape[1],\n",
        "\t# \teeg_shape[2]))\n",
        "\tdel reg_within\n",
        "\t# Between subjects\n",
        "\treg_between = OLS_pytorch(use_gpu=False)\n",
        "\treg_between.fit(X_train, y_train_between.T)\n",
        "\tsynt_train_between = np.reshape(reg_between.predict(X_train),\n",
        "\t\t(X_train.shape[0],eeg_shape[1],eeg_shape[2]))\n",
        "\tsynt_test_between = np.reshape(reg_between.predict(X_test),\n",
        "\t\t(X_test.shape[0],eeg_shape[1],eeg_shape[2]))\n",
        "\tdel reg_between, X_train, X_test, y_train_within, y_train_between\n",
        "\n",
        "\t### Putting the data into dictionaries and saving ###\n",
        "\tprint('\\n>>> Saving the data <<<')\n",
        "\t# Creating the saving directories\n",
        "\tsave_dir = os.path.join(args.project_dir, 'results', 'sub-'+\n",
        "\t\tformat(args.sub,'02'), 'synthetic_eeg_data', 'linearizing_encoding',\n",
        "\t\t'dnn-'+args.dnn)\n",
        "\tif not os.path.exists(save_dir):\n",
        "\t\tos.makedirs(save_dir)\n",
        "\t# Training data\n",
        "\tdata_dict = {\n",
        "\t\t'synthetic_data_within': synt_train_within,\n",
        "\t\t'synthetic_data_between': synt_train_between,\n",
        "\t\t'ch_names': ch_names,\n",
        "\t\t'times': times\n",
        "\t\t}\n",
        "\tfile_name = 'synthetic_eeg_training.npy'\n",
        "\tnp.save(os.path.join(save_dir, file_name), data_dict)\n",
        "\t# Test data\n",
        "\tdata_dict = {\n",
        "\t\t'synthetic_data_within': synt_test_within,\n",
        "\t\t'synthetic_data_between': synt_test_between,\n",
        "\t\t'ch_names': ch_names,\n",
        "\t\t'times': times\n",
        "\t\t}\n",
        "\tfile_name = 'synthetic_eeg_test.npy'\n",
        "\tnp.save(os.path.join(save_dir, file_name), data_dict)\n",
        "\t# ILSVRC-2012 validation data\n",
        "\t# data_dict = {\n",
        "\t# \t'synthetic_data_within': synt_ilsvrc2012_val_within,\n",
        "\t# \t'ch_names': ch_names,\n",
        "\t# \t'times': times\n",
        "\t# \t}\n",
        "\t# file_name = 'synthetic_eeg_ilsvrc2012_val.npy'\n",
        "\t# np.save(os.path.join(save_dir, file_name), data_dict)\n",
        "\t# ILSVRC-2012 test data\n",
        "\t# data_dict = {\n",
        "\t# \t'synthetic_data_within': synt_ilsvrc2012_test_within,\n",
        "\t# \t'ch_names': ch_names,\n",
        "\t# \t'times': times\n",
        "\t# \t}\n",
        "\t# file_name = 'synthetic_eeg_ilsvrc2012_test.npy'\n",
        "\t# np.save(os.path.join(save_dir, file_name), data_dict)"
      ],
      "metadata": {
        "id": "hzm5jN4neJzW"
      },
      "execution_count": 37,
      "outputs": []
    },
    {
      "cell_type": "code",
      "source": [
        "\"\"\"Fitting a linear regression to predict EEG data using the DNN feature maps as\n",
        "predictors. The linear regression is trained using the training images EEG data\n",
        "(Y) and feature maps (X), and the learned weights are used to synthesize the EEG\n",
        "data of the training and test images, and also of the ILSVRC-2012 test and\n",
        "validation images. The linear regression is trained both within and between\n",
        "subjects in a leave-one-subject out fashion.\n",
        "Parameters\n",
        "----------\n",
        "sub : int\n",
        "\tUsed subject.\n",
        "n_tot_sub : int\n",
        "\tTotal number of subjects.\n",
        "dnn : str\n",
        "\tUsed DNN network.\n",
        "project_dir : str\n",
        "\tDirectory of the project folder.\n",
        "\"\"\"\n",
        "\n",
        "\n",
        "\n",
        "\n",
        "# =============================================================================\n",
        "# Input arguments\n",
        "# =============================================================================\n",
        "args = Args({\n",
        "    'sub': 1, # subject\n",
        "    'n_tot_sub': 1, # 10\n",
        "    'dnn': 'alexnet',\n",
        "    'project_dir': work_dir + 'project_dir'\n",
        "})\n",
        "\n",
        "print('>>> Predicting the EEG data <<<')\n",
        "print('\\nInput arguments:')\n",
        "for key, val in vars(args).items():\n",
        "\tprint('{:16} {}'.format(key, val))\n",
        "\n",
        "\n",
        "# =============================================================================\n",
        "# Loading the DNN feature maps\n",
        "# =============================================================================\n",
        "X_train, X_test = load_dnn_data(args)\n",
        "\n",
        "\n",
        "# =============================================================================\n",
        "# Loading the EEG data\n",
        "# =============================================================================\n",
        "y_train_within, y_train_between, ch_names, times = load_eeg_data(args)\n",
        "\n",
        "\n",
        "# =============================================================================\n",
        "# Training the linear regression and saving the predicted data\n",
        "# =============================================================================\n",
        "perform_regression(args, ch_names, times, X_train, X_test, y_train_within, y_train_between)"
      ],
      "metadata": {
        "colab": {
          "base_uri": "https://localhost:8080/",
          "height": 518
        },
        "id": "sFioUpNWc1Ql",
        "outputId": "24415863-4d8e-4cc5-d98f-7191c0d343bc"
      },
      "execution_count": 38,
      "outputs": [
        {
          "output_type": "stream",
          "name": "stdout",
          "text": [
            ">>> Predicting the EEG data <<<\n",
            "\n",
            "Input arguments:\n",
            "sub              1\n",
            "n_tot_sub        1\n",
            "dnn              alexnet\n",
            "project_dir      /content/drive/MyDrive/eeg_encoding-main/project_dir\n"
          ]
        },
        {
          "output_type": "stream",
          "name": "stderr",
          "text": [
            "/usr/local/lib/python3.7/dist-packages/numpy/core/fromnumeric.py:3441: RuntimeWarning: Mean of empty slice.\n",
            "  out=out, **kwargs)\n",
            "/usr/local/lib/python3.7/dist-packages/numpy/core/_methods.py:189: RuntimeWarning: invalid value encountered in double_scalars\n",
            "  ret = ret.dtype.type(ret / rcount)\n"
          ]
        },
        {
          "output_type": "error",
          "ename": "IndexError",
          "evalue": "ignored",
          "traceback": [
            "\u001b[0;31m---------------------------------------------------------------------------\u001b[0m",
            "\u001b[0;31mIndexError\u001b[0m                                Traceback (most recent call last)",
            "\u001b[0;32m<ipython-input-38-d74ea5c22239>\u001b[0m in \u001b[0;36m<module>\u001b[0;34m()\u001b[0m\n\u001b[1;32m     51\u001b[0m \u001b[0;31m# Training the linear regression and saving the predicted data\u001b[0m\u001b[0;34m\u001b[0m\u001b[0;34m\u001b[0m\u001b[0;34m\u001b[0m\u001b[0m\n\u001b[1;32m     52\u001b[0m \u001b[0;31m# =============================================================================\u001b[0m\u001b[0;34m\u001b[0m\u001b[0;34m\u001b[0m\u001b[0;34m\u001b[0m\u001b[0m\n\u001b[0;32m---> 53\u001b[0;31m \u001b[0mperform_regression\u001b[0m\u001b[0;34m(\u001b[0m\u001b[0margs\u001b[0m\u001b[0;34m,\u001b[0m \u001b[0mch_names\u001b[0m\u001b[0;34m,\u001b[0m \u001b[0mtimes\u001b[0m\u001b[0;34m,\u001b[0m \u001b[0mX_train\u001b[0m\u001b[0;34m,\u001b[0m \u001b[0mX_test\u001b[0m\u001b[0;34m,\u001b[0m \u001b[0my_train_within\u001b[0m\u001b[0;34m,\u001b[0m \u001b[0my_train_between\u001b[0m\u001b[0;34m)\u001b[0m\u001b[0;34m\u001b[0m\u001b[0;34m\u001b[0m\u001b[0m\n\u001b[0m",
            "\u001b[0;32m<ipython-input-37-1875246ef637>\u001b[0m in \u001b[0;36mperform_regression\u001b[0;34m(args, ch_names, times, X_train, X_test, y_train_within, y_train_between)\u001b[0m\n\u001b[1;32m    111\u001b[0m         \u001b[0meeg_shape\u001b[0m \u001b[0;34m=\u001b[0m \u001b[0my_train_within\u001b[0m\u001b[0;34m.\u001b[0m\u001b[0mshape\u001b[0m\u001b[0;34m\u001b[0m\u001b[0;34m\u001b[0m\u001b[0m\n\u001b[1;32m    112\u001b[0m         \u001b[0my_train_within\u001b[0m \u001b[0;34m=\u001b[0m \u001b[0mnp\u001b[0m\u001b[0;34m.\u001b[0m\u001b[0mreshape\u001b[0m\u001b[0;34m(\u001b[0m\u001b[0my_train_within\u001b[0m\u001b[0;34m,\u001b[0m \u001b[0;34m(\u001b[0m\u001b[0my_train_within\u001b[0m\u001b[0;34m.\u001b[0m\u001b[0mshape\u001b[0m\u001b[0;34m[\u001b[0m\u001b[0;36m0\u001b[0m\u001b[0;34m]\u001b[0m\u001b[0;34m,\u001b[0m\u001b[0;34m-\u001b[0m\u001b[0;36m1\u001b[0m\u001b[0;34m)\u001b[0m\u001b[0;34m)\u001b[0m\u001b[0;34m\u001b[0m\u001b[0;34m\u001b[0m\u001b[0m\n\u001b[0;32m--> 113\u001b[0;31m         \u001b[0my_train_between\u001b[0m \u001b[0;34m=\u001b[0m \u001b[0mnp\u001b[0m\u001b[0;34m.\u001b[0m\u001b[0mreshape\u001b[0m\u001b[0;34m(\u001b[0m\u001b[0my_train_between\u001b[0m\u001b[0;34m,\u001b[0m \u001b[0;34m(\u001b[0m\u001b[0my_train_between\u001b[0m\u001b[0;34m.\u001b[0m\u001b[0mshape\u001b[0m\u001b[0;34m[\u001b[0m\u001b[0;36m0\u001b[0m\u001b[0;34m]\u001b[0m\u001b[0;34m,\u001b[0m\u001b[0;34m-\u001b[0m\u001b[0;36m1\u001b[0m\u001b[0;34m)\u001b[0m\u001b[0;34m)\u001b[0m\u001b[0;34m\u001b[0m\u001b[0;34m\u001b[0m\u001b[0m\n\u001b[0m\u001b[1;32m    114\u001b[0m         \u001b[0;31m# Within subjects\u001b[0m\u001b[0;34m\u001b[0m\u001b[0;34m\u001b[0m\u001b[0;34m\u001b[0m\u001b[0m\n\u001b[1;32m    115\u001b[0m         \u001b[0mreg_within\u001b[0m \u001b[0;34m=\u001b[0m \u001b[0mOLS_pytorch\u001b[0m\u001b[0;34m(\u001b[0m\u001b[0muse_gpu\u001b[0m\u001b[0;34m=\u001b[0m\u001b[0;32mFalse\u001b[0m\u001b[0;34m)\u001b[0m\u001b[0;34m\u001b[0m\u001b[0;34m\u001b[0m\u001b[0m\n",
            "\u001b[0;31mIndexError\u001b[0m: tuple index out of range"
          ]
        }
      ]
    },
    {
      "cell_type": "code",
      "source": [
        ""
      ],
      "metadata": {
        "id": "OR588Limfksp"
      },
      "execution_count": null,
      "outputs": []
    }
  ]
}